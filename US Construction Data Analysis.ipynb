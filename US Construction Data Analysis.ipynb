{
 "cells": [
  {
   "cell_type": "markdown",
   "metadata": {
    "id": "r5E8nt0jGE6s"
   },
   "source": [
    "# Construction Data Exercise"
   ]
  },
  {
   "cell_type": "markdown",
   "metadata": {},
   "source": [
    "## This dataset includes: \n",
    "- The Value of Construction Put in Place Survey provides monthly estimates of the total dollar value of construction work done in the U.S. The survey covers construction work done each month on new structures or improvements to existing structures for private and public sectors. Data provided by Enigma.io from the U.S. Department of Commerce."
   ]
  },
  {
   "cell_type": "code",
   "execution_count": 2,
   "metadata": {
    "executionInfo": {
     "elapsed": 851,
     "status": "ok",
     "timestamp": 1666892079061,
     "user": {
      "displayName": "C D",
      "userId": "04880050444872109138"
     },
     "user_tz": 360
    },
    "id": "v9rTvcEDApP2"
   },
   "outputs": [],
   "source": [
    "# imports\n",
    "import pandas as pd\n",
    "from sqlalchemy import create_engine"
   ]
  },
  {
   "cell_type": "code",
   "execution_count": 6,
   "metadata": {
    "colab": {
     "base_uri": "https://localhost:8080/",
     "height": 345
    },
    "executionInfo": {
     "elapsed": 247,
     "status": "error",
     "timestamp": 1666892231380,
     "user": {
      "displayName": "C D",
      "userId": "04880050444872109138"
     },
     "user_tz": 360
    },
    "id": "kutvGwWcBEX5",
    "outputId": "0238d9ba-e246-4d46-929f-ad815e8e4daa"
   },
   "outputs": [
    {
     "data": {
      "text/html": [
       "<div>\n",
       "<style scoped>\n",
       "    .dataframe tbody tr th:only-of-type {\n",
       "        vertical-align: middle;\n",
       "    }\n",
       "\n",
       "    .dataframe tbody tr th {\n",
       "        vertical-align: top;\n",
       "    }\n",
       "\n",
       "    .dataframe thead th {\n",
       "        text-align: right;\n",
       "    }\n",
       "</style>\n",
       "<table border=\"1\" class=\"dataframe\">\n",
       "  <thead>\n",
       "    <tr style=\"text-align: right;\">\n",
       "      <th></th>\n",
       "      <th>per_idx</th>\n",
       "      <th>per_name</th>\n",
       "      <th>cat_idx</th>\n",
       "      <th>cat_code</th>\n",
       "      <th>cat_desc</th>\n",
       "      <th>cat_indent</th>\n",
       "      <th>dt_idx</th>\n",
       "      <th>dt_code</th>\n",
       "      <th>dt_desc</th>\n",
       "      <th>dt_unit</th>\n",
       "      <th>et_idx</th>\n",
       "      <th>et_code</th>\n",
       "      <th>et_desc</th>\n",
       "      <th>et_unit</th>\n",
       "      <th>geo_idx</th>\n",
       "      <th>geo_code</th>\n",
       "      <th>geo_desc</th>\n",
       "      <th>is_adj</th>\n",
       "      <th>val</th>\n",
       "      <th>serialid</th>\n",
       "    </tr>\n",
       "  </thead>\n",
       "  <tbody>\n",
       "    <tr>\n",
       "      <th>0</th>\n",
       "      <td>1</td>\n",
       "      <td>1/1/2002</td>\n",
       "      <td>1</td>\n",
       "      <td>XXXX</td>\n",
       "      <td>Total Construction</td>\n",
       "      <td>0</td>\n",
       "      <td>1</td>\n",
       "      <td>T</td>\n",
       "      <td>Total Construction</td>\n",
       "      <td>MLN$</td>\n",
       "      <td>0</td>\n",
       "      <td>NaN</td>\n",
       "      <td>NaN</td>\n",
       "      <td>NaN</td>\n",
       "      <td>1</td>\n",
       "      <td>US</td>\n",
       "      <td>U.S. Total</td>\n",
       "      <td>0</td>\n",
       "      <td>59516.0</td>\n",
       "      <td>1</td>\n",
       "    </tr>\n",
       "    <tr>\n",
       "      <th>1</th>\n",
       "      <td>1</td>\n",
       "      <td>1/1/2002</td>\n",
       "      <td>2</td>\n",
       "      <td>00XX</td>\n",
       "      <td>Residential</td>\n",
       "      <td>0</td>\n",
       "      <td>1</td>\n",
       "      <td>T</td>\n",
       "      <td>Total Construction</td>\n",
       "      <td>MLN$</td>\n",
       "      <td>0</td>\n",
       "      <td>NaN</td>\n",
       "      <td>NaN</td>\n",
       "      <td>NaN</td>\n",
       "      <td>1</td>\n",
       "      <td>US</td>\n",
       "      <td>U.S. Total</td>\n",
       "      <td>0</td>\n",
       "      <td>25972.0</td>\n",
       "      <td>2</td>\n",
       "    </tr>\n",
       "    <tr>\n",
       "      <th>2</th>\n",
       "      <td>1</td>\n",
       "      <td>1/1/2002</td>\n",
       "      <td>3</td>\n",
       "      <td>NRXX</td>\n",
       "      <td>Nonresidential</td>\n",
       "      <td>0</td>\n",
       "      <td>1</td>\n",
       "      <td>T</td>\n",
       "      <td>Total Construction</td>\n",
       "      <td>MLN$</td>\n",
       "      <td>0</td>\n",
       "      <td>NaN</td>\n",
       "      <td>NaN</td>\n",
       "      <td>NaN</td>\n",
       "      <td>1</td>\n",
       "      <td>US</td>\n",
       "      <td>U.S. Total</td>\n",
       "      <td>0</td>\n",
       "      <td>33545.0</td>\n",
       "      <td>3</td>\n",
       "    </tr>\n",
       "    <tr>\n",
       "      <th>3</th>\n",
       "      <td>1</td>\n",
       "      <td>1/1/2002</td>\n",
       "      <td>4</td>\n",
       "      <td>01XX</td>\n",
       "      <td>Lodging</td>\n",
       "      <td>1</td>\n",
       "      <td>1</td>\n",
       "      <td>T</td>\n",
       "      <td>Total Construction</td>\n",
       "      <td>MLN$</td>\n",
       "      <td>0</td>\n",
       "      <td>NaN</td>\n",
       "      <td>NaN</td>\n",
       "      <td>NaN</td>\n",
       "      <td>1</td>\n",
       "      <td>US</td>\n",
       "      <td>U.S. Total</td>\n",
       "      <td>0</td>\n",
       "      <td>989.0</td>\n",
       "      <td>4</td>\n",
       "    </tr>\n",
       "    <tr>\n",
       "      <th>4</th>\n",
       "      <td>1</td>\n",
       "      <td>1/1/2002</td>\n",
       "      <td>5</td>\n",
       "      <td>02XX</td>\n",
       "      <td>Office</td>\n",
       "      <td>1</td>\n",
       "      <td>1</td>\n",
       "      <td>T</td>\n",
       "      <td>Total Construction</td>\n",
       "      <td>MLN$</td>\n",
       "      <td>0</td>\n",
       "      <td>NaN</td>\n",
       "      <td>NaN</td>\n",
       "      <td>NaN</td>\n",
       "      <td>1</td>\n",
       "      <td>US</td>\n",
       "      <td>U.S. Total</td>\n",
       "      <td>0</td>\n",
       "      <td>3763.0</td>\n",
       "      <td>5</td>\n",
       "    </tr>\n",
       "  </tbody>\n",
       "</table>\n",
       "</div>"
      ],
      "text/plain": [
       "   per_idx  per_name  cat_idx cat_code            cat_desc  cat_indent  \\\n",
       "0        1  1/1/2002        1     XXXX  Total Construction           0   \n",
       "1        1  1/1/2002        2     00XX         Residential           0   \n",
       "2        1  1/1/2002        3     NRXX      Nonresidential           0   \n",
       "3        1  1/1/2002        4     01XX             Lodging           1   \n",
       "4        1  1/1/2002        5     02XX              Office           1   \n",
       "\n",
       "   dt_idx dt_code             dt_desc dt_unit  et_idx et_code et_desc et_unit  \\\n",
       "0       1       T  Total Construction    MLN$       0     NaN     NaN     NaN   \n",
       "1       1       T  Total Construction    MLN$       0     NaN     NaN     NaN   \n",
       "2       1       T  Total Construction    MLN$       0     NaN     NaN     NaN   \n",
       "3       1       T  Total Construction    MLN$       0     NaN     NaN     NaN   \n",
       "4       1       T  Total Construction    MLN$       0     NaN     NaN     NaN   \n",
       "\n",
       "   geo_idx geo_code    geo_desc  is_adj      val  serialid  \n",
       "0        1       US  U.S. Total       0  59516.0         1  \n",
       "1        1       US  U.S. Total       0  25972.0         2  \n",
       "2        1       US  U.S. Total       0  33545.0         3  \n",
       "3        1       US  U.S. Total       0    989.0         4  \n",
       "4        1       US  U.S. Total       0   3763.0         5  "
      ]
     },
     "execution_count": 6,
     "metadata": {},
     "output_type": "execute_result"
    }
   ],
   "source": [
    "# Read the policy data in as a Pandas Dataframe\n",
    "data = pd.read_csv(\"Data/enigma-usgov_census_2_0.csv\")\n",
    "data.head()"
   ]
  },
  {
   "cell_type": "code",
   "execution_count": 7,
   "metadata": {},
   "outputs": [
    {
     "data": {
      "text/plain": [
       "(50208, 20)"
      ]
     },
     "execution_count": 7,
     "metadata": {},
     "output_type": "execute_result"
    }
   ],
   "source": [
    "data.shape"
   ]
  },
  {
   "cell_type": "code",
   "execution_count": null,
   "metadata": {
    "id": "Oa1jPJpIgD5E"
   },
   "outputs": [],
   "source": []
  }
 ],
 "metadata": {
  "colab": {
   "collapsed_sections": [],
   "provenance": [
    {
     "file_id": "1Enf4Enihdrwdbz0H1mWscNvHnGWZtleM",
     "timestamp": 1666891969875
    },
    {
     "file_id": "1BMSnBrFT8XkXIOi3MLoiHl6G_K7YRtRB",
     "timestamp": 1652140839745
    }
   ]
  },
  "kernelspec": {
   "display_name": "Python 3 (ipykernel)",
   "language": "python",
   "name": "python3"
  },
  "language_info": {
   "codemirror_mode": {
    "name": "ipython",
    "version": 3
   },
   "file_extension": ".py",
   "mimetype": "text/x-python",
   "name": "python",
   "nbconvert_exporter": "python",
   "pygments_lexer": "ipython3",
   "version": "3.7.12"
  }
 },
 "nbformat": 4,
 "nbformat_minor": 1
}
